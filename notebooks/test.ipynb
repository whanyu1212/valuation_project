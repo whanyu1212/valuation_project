{
 "cells": [
  {
   "cell_type": "code",
   "execution_count": 2,
   "metadata": {},
   "outputs": [],
   "source": [
    "import lightgbm as lgb"
   ]
  },
  {
   "cell_type": "code",
   "execution_count": 15,
   "metadata": {},
   "outputs": [
    {
     "data": {
      "text/plain": [
       "18040.868718169408"
      ]
     },
     "execution_count": 15,
     "metadata": {},
     "output_type": "execute_result"
    }
   ],
   "source": [
    "4400/(1+0.07) + 4400/(1+0.07)**2 + 4400/(1+0.07)**3 + 4400/(1+0.07)**4 + 4400/(1+0.07)**5"
   ]
  },
  {
   "cell_type": "code",
   "execution_count": 32,
   "metadata": {},
   "outputs": [
    {
     "data": {
      "text/plain": [
       "229511.64537941385"
      ]
     },
     "execution_count": 32,
     "metadata": {},
     "output_type": "execute_result"
    }
   ],
   "source": [
    "678000/(1+0.1) + 492000/(1+0.1)**2 + 408000/(1+0.1)**3 - 1100000"
   ]
  },
  {
   "cell_type": "code",
   "execution_count": 36,
   "metadata": {},
   "outputs": [
    {
     "data": {
      "text/plain": [
       "1.3148757263769544"
      ]
     },
     "execution_count": 36,
     "metadata": {},
     "output_type": "execute_result"
    }
   ],
   "source": [
    "from scipy.optimize import fsolve\n",
    "\n",
    "def equation(IRR):\n",
    "    return (\n",
    "        150000 / (1 + IRR) +\n",
    "        54000 / (1 + IRR)**2 +\n",
    "        1272000 / (1 + IRR)**3 -\n",
    "        177418\n",
    "    )\n",
    "\n",
    "def calculate_IRR():\n",
    "    initial_guess = 0.1  # A common starting point is 10% (0.1)\n",
    "    irr = fsolve(equation, initial_guess)[0]\n",
    "    return irr\n",
    "\n",
    "calculate_IRR()"
   ]
  },
  {
   "cell_type": "code",
   "execution_count": 39,
   "metadata": {},
   "outputs": [
    {
     "name": "stdout",
     "output_type": "stream",
     "text": [
      "The estimated IRR is: 0.172835\n"
     ]
    }
   ],
   "source": [
    "from scipy.optimize import fsolve\n",
    "\n",
    "def equation(IRR):\n",
    "    cash_flows = [-3.5e6]  \n",
    "    cash_flows.append(605e3)  \n",
    "    \n",
    "    # Years 2 to 10\n",
    "    for i in range(2, 11):\n",
    "        cash_flows.append(cash_flows[-1] * 1.06)\n",
    "    \n",
    "    # Year 11 (with abandonment cost)\n",
    "    cash_flows.append((cash_flows[-1] * 1.06) - 575e3)\n",
    "\n",
    "    \n",
    "    npv = sum([cf / (1 + IRR)**i for i, cf in enumerate(cash_flows)])\n",
    "    return npv\n",
    "\n",
    "def calculate_IRR():\n",
    "    initial_guess = 0.1\n",
    "    irr = fsolve(equation, initial_guess)[0]\n",
    "    return irr\n",
    "\n",
    "\n",
    "irr_value = calculate_IRR()\n",
    "print(f\"The estimated IRR is: {irr_value:.6f}\")\n"
   ]
  },
  {
   "cell_type": "code",
   "execution_count": 5,
   "metadata": {},
   "outputs": [
    {
     "data": {
      "text/plain": [
       "17824148.180112515"
      ]
     },
     "execution_count": 5,
     "metadata": {},
     "output_type": "execute_result"
    }
   ],
   "source": [
    "3945833.34 / (1+0.1) + 3945833.34 / (1+0.1)**2 + 3945833.34 / (1+0.1)**3 + 3945833.34 / (1+0.1)**4 + 3945833.34 / (1+0.1)**5 + 3945833.34 / (1+0.1)**6 + 3945833.34 / (1+0.1)**7 + 3945833.34 / (1+0.1)**8 + 3945833.34 / (1+0.1)**9 - 4900000"
   ]
  },
  {
   "cell_type": "code",
   "execution_count": 9,
   "metadata": {},
   "outputs": [
    {
     "data": {
      "text/plain": [
       "2034.9026121928255"
      ]
     },
     "execution_count": 9,
     "metadata": {},
     "output_type": "execute_result"
    }
   ],
   "source": [
    "11067/(1+0.12) + 12318/(1+0.12)**2 + 12137/(1+0.12)**3 + 10928/(1+0.12)**4 - 33250"
   ]
  },
  {
   "cell_type": "code",
   "execution_count": 3,
   "metadata": {},
   "outputs": [
    {
     "data": {
      "text/plain": [
       "4305555.5600000005"
      ]
     },
     "execution_count": 3,
     "metadata": {},
     "output_type": "execute_result"
    }
   ],
   "source": [
    "9500000 *(1-0.30)- 1800000 - 544444.44"
   ]
  },
  {
   "cell_type": "code",
   "execution_count": 4,
   "metadata": {},
   "outputs": [
    {
     "data": {
      "text/plain": [
       "3945833.3403000003"
      ]
     },
     "execution_count": 4,
     "metadata": {},
     "output_type": "execute_result"
    }
   ],
   "source": [
    "4305555.57*(1-0.21) + 544444.44"
   ]
  },
  {
   "cell_type": "code",
   "execution_count": 10,
   "metadata": {},
   "outputs": [
    {
     "data": {
      "text/plain": [
       "276105.7628"
      ]
     },
     "execution_count": 10,
     "metadata": {},
     "output_type": "execute_result"
    }
   ],
   "source": [
    "(333409.69 - 100607.43 - 146000 + 80000)*(1-0.22) + 146000"
   ]
  }
 ],
 "metadata": {
  "kernelspec": {
   "display_name": "valuation-project-GEHDMLF9-py3.11",
   "language": "python",
   "name": "python3"
  },
  "language_info": {
   "codemirror_mode": {
    "name": "ipython",
    "version": 3
   },
   "file_extension": ".py",
   "mimetype": "text/x-python",
   "name": "python",
   "nbconvert_exporter": "python",
   "pygments_lexer": "ipython3",
   "version": "3.11.5"
  }
 },
 "nbformat": 4,
 "nbformat_minor": 2
}
